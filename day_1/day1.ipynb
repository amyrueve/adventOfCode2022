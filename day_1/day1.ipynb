{
 "cells": [
  {
   "cell_type": "code",
   "execution_count": 14,
   "metadata": {},
   "outputs": [],
   "source": [
    "with open('input.txt') as f:\n",
    "    lines = f.readlines()"
   ]
  },
  {
   "cell_type": "code",
   "execution_count": 15,
   "metadata": {},
   "outputs": [
    {
     "name": "stdout",
     "output_type": "stream",
     "text": [
      "68292\n"
     ]
    }
   ],
   "source": [
    "# Part 1\n",
    "\n",
    "max_cals = 0\n",
    "single_elf_accum = 0\n",
    "\n",
    "for line in lines:\n",
    "    try:\n",
    "        single_elf_accum += int(line)\n",
    "    except:\n",
    "        max_cals = max_cals if single_elf_accum <= max_cals else single_elf_accum\n",
    "        single_elf_accum = 0\n",
    "\n",
    "print(max_cals)"
   ]
  },
  {
   "cell_type": "code",
   "execution_count": 16,
   "metadata": {},
   "outputs": [
    {
     "name": "stdout",
     "output_type": "stream",
     "text": [
      "203203\n"
     ]
    }
   ],
   "source": [
    "# Part 2\n",
    "\n",
    "max_cals = [0, 0, 0]\n",
    "single_elf_accum = 0\n",
    "\n",
    "for line in lines:\n",
    "    try:\n",
    "        single_elf_accum += int(line)\n",
    "    except:\n",
    "        # max_cals = max_cals if single_elf_accum <= max_cals else single_elf_accum\n",
    "        if min(max_cals) < single_elf_accum:\n",
    "            max_cals.remove(min(max_cals))\n",
    "            max_cals.append(single_elf_accum)\n",
    "        single_elf_accum = 0\n",
    "\n",
    "print(sum(max_cals))"
   ]
  },
  {
   "cell_type": "code",
   "execution_count": null,
   "metadata": {},
   "outputs": [],
   "source": []
  }
 ],
 "metadata": {
  "kernelspec": {
   "display_name": "Python 3.8.0 64-bit",
   "language": "python",
   "name": "python3"
  },
  "language_info": {
   "codemirror_mode": {
    "name": "ipython",
    "version": 3
   },
   "file_extension": ".py",
   "mimetype": "text/x-python",
   "name": "python",
   "nbconvert_exporter": "python",
   "pygments_lexer": "ipython3",
   "version": "3.8.0"
  },
  "orig_nbformat": 4,
  "vscode": {
   "interpreter": {
    "hash": "570feb405e2e27c949193ac68f46852414290d515b0ba6e5d90d076ed2284471"
   }
  }
 },
 "nbformat": 4,
 "nbformat_minor": 2
}
